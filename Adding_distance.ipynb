{
 "cells": [
  {
   "cell_type": "markdown",
   "metadata": {},
   "source": [
    "Adding the distances to every OD pair. I only could use the distances from the real timetable and look up the distances name by name. That is the reason I should create a matrix to get the real distances between not neighboring stations."
   ]
  },
  {
   "cell_type": "code",
   "execution_count": null,
   "metadata": {},
   "outputs": [],
   "source": [
    "import pandas as pd\n",
    "import numpy as np\n",
    "import matplotlib.pyplot as plt"
   ]
  },
  {
   "cell_type": "code",
   "execution_count": null,
   "metadata": {},
   "outputs": [],
   "source": [
    "df = pd.concat(dfs, axis=0).reset_index(drop=True)"
   ]
  },
  {
   "cell_type": "code",
   "execution_count": null,
   "metadata": {},
   "outputs": [],
   "source": [
    "stations = df.groupby('From').count()\n",
    "stations"
   ]
  },
  {
   "cell_type": "code",
   "execution_count": null,
   "metadata": {},
   "outputs": [],
   "source": [
    "stations_to = df.groupby('To').count()\n",
    "stations_to"
   ]
  },
  {
   "cell_type": "code",
   "execution_count": null,
   "metadata": {},
   "outputs": [],
   "source": [
    "all_stations = []\n",
    "all_stations.extend([st.replace('ô', 'ő') for st in stations.index])\n",
    "all_stations.extend([st.replace('ô', 'ő') for st in stations_to.index])\n",
    "all_stations"
   ]
  },
  {
   "cell_type": "code",
   "execution_count": null,
   "metadata": {},
   "outputs": [],
   "source": [
    "for i, name in enumerate(all_stations):\n",
    "    if name[-1] == '-':\n",
    "        all_stations[i] = name[:-1]"
   ]
  },
  {
   "cell_type": "code",
   "execution_count": null,
   "metadata": {},
   "outputs": [],
   "source": [
    "all_stations = set(all_stations)"
   ]
  },
  {
   "cell_type": "code",
   "execution_count": null,
   "metadata": {},
   "outputs": [],
   "source": [
    "stations = np.array(sorted(all_stations), dtype=np.str)\n",
    "stations"
   ]
  },
  {
   "cell_type": "markdown",
   "metadata": {},
   "source": [
    "I found out every station name can be only 20 character long"
   ]
  },
  {
   "cell_type": "code",
   "execution_count": null,
   "metadata": {},
   "outputs": [],
   "source": [
    "len('Badacsonytördemic-Sz')"
   ]
  },
  {
   "cell_type": "code",
   "execution_count": null,
   "metadata": {},
   "outputs": [],
   "source": [
    "num_stations = len(stations)\n",
    "num_stations"
   ]
  },
  {
   "cell_type": "code",
   "execution_count": null,
   "metadata": {},
   "outputs": [],
   "source": [
    "distances = np.zeros((num_stations, num_stations))\n",
    "distances"
   ]
  },
  {
   "cell_type": "code",
   "execution_count": null,
   "metadata": {},
   "outputs": [],
   "source": [
    "allomas1 = 10\n",
    "allomas2 = 20\n",
    "distances[allomas1, allomas2]\n"
   ]
  },
  {
   "cell_type": "code",
   "execution_count": null,
   "metadata": {},
   "outputs": [],
   "source": [
    "stations[allomas1],stations[allomas2]"
   ]
  },
  {
   "cell_type": "code",
   "execution_count": null,
   "metadata": {},
   "outputs": [],
   "source": [
    "index1 = np.where(stations == 'Badacsonylábdihegy')\n",
    "index1[0][0]"
   ]
  },
  {
   "cell_type": "code",
   "execution_count": null,
   "metadata": {},
   "outputs": [],
   "source": [
    "def get_index(station: str) -> int:\n",
    "    return np.where(stations == station)[0][0]"
   ]
  },
  {
   "cell_type": "markdown",
   "metadata": {},
   "source": [
    "I checked if my distances data containt every nighbouring stations."
   ]
  },
  {
   "cell_type": "code",
   "execution_count": null,
   "metadata": {},
   "outputs": [],
   "source": [
    "df_dist = pd.concat([df1, df2, df3], axis=0).reset_index(drop=True)\n",
    "df_dist"
   ]
  },
  {
   "cell_type": "code",
   "execution_count": null,
   "metadata": {},
   "outputs": [],
   "source": [
    "for index, row in df_dist.iterrows():\n",
    "    for rem in ['mh.', 'mrh.', 'ipvk.', 'rh.','\\xa0','','\\r','0','ipvk', 'elá','pvh']:\n",
    "        df_dist.loc[index,'Name'] = df_dist.loc[index,'Name'].replace(rem, '')"
   ]
  },
  {
   "cell_type": "code",
   "execution_count": null,
   "metadata": {},
   "outputs": [],
   "source": [
    "matching_names = 0\n",
    "for index, row in df_dist.iterrows():\n",
    "    name = row['Name']\n",
    "    if name in set(stations):\n",
    "        matching_names += 1\n",
    "    else:\n",
    "        print(name)"
   ]
  },
  {
   "cell_type": "code",
   "execution_count": null,
   "metadata": {},
   "outputs": [],
   "source": [
    "matching_names"
   ]
  },
  {
   "cell_type": "code",
   "execution_count": null,
   "metadata": {},
   "outputs": [],
   "source": [
    "matching_stations = set([row['Name'] for index, row in df_dist.iterrows() if row['Name'] in stations])\n",
    "matching_stations"
   ]
  },
  {
   "cell_type": "code",
   "execution_count": null,
   "metadata": {},
   "outputs": [],
   "source": [
    "non_matching_stations = set([row['Name'] for index, row in df_dist.iterrows() if row['Name'] not in stations])\n",
    "non_matching_stations"
   ]
  },
  {
   "cell_type": "code",
   "execution_count": null,
   "metadata": {},
   "outputs": [],
   "source": [
    "len(matching_stations), len(non_matching_stations)"
   ]
  },
  {
   "cell_type": "code",
   "execution_count": null,
   "metadata": {},
   "outputs": [],
   "source": [
    "dist_names = np.array(df_dist['Name'].values, dtype=np.str)"
   ]
  },
  {
   "cell_type": "code",
   "execution_count": null,
   "metadata": {
    "scrolled": false
   },
   "outputs": [],
   "source": [
    "missing_stations = set([station for station in stations if station not in dist_names ])\n",
    "missing_stations"
   ]
  },
  {
   "cell_type": "code",
   "execution_count": null,
   "metadata": {},
   "outputs": [],
   "source": [
    "len(missing_stations)"
   ]
  },
  {
   "cell_type": "markdown",
   "metadata": {},
   "source": [
    "I built the distance matrix"
   ]
  },
  {
   "cell_type": "code",
   "execution_count": null,
   "metadata": {
    "pycharm": {
     "name": "#%%\n"
    },
    "scrolled": true
   },
   "outputs": [],
   "source": [
    "paths=[[]] # list of lists\n",
    "\n",
    "\n",
    "d = 0\n",
    "prev_not_null = None\n",
    "prev = None\n",
    "curr = None\n",
    "for index, row in df_dist.iterrows():\n",
    "    if index == 0: continue\n",
    "    prev = df_dist.loc[index-1]['Name']\n",
    "    curr = df_dist.loc[index]['Name']\n",
    "    # dist = float(str(df_dist.loc[index]['Distance']).replace(',', '.'))\n",
    "    dist = df_dist.loc[index]['Distance']\n",
    "\n",
    "    if np.isnan(dist):\n",
    "        prev = None\n",
    "        prev_not_null = None\n",
    "    # todo: ezt szedd ki mert akkor nem lesznek benne a hianyzo allomasok tavolsagai\n",
    "#     if prev in missing_stations or curr in missing_stations:\n",
    "#         continue\n",
    "\n",
    "\n",
    "    if prev in stations:\n",
    "        prev_not_null = prev\n",
    "        d=dist # ha van (uj) elozo akkor mentsuk el a tavot\n",
    "    else:\n",
    "        if np.isnan(dist):  # new track\n",
    "            d = 0\n",
    "        else:  # prev station nem ismert de ugyanaz a track\n",
    "            d += dist  # accumulate distance, will be zeroed out when we save it\n",
    "\n",
    "\n",
    "    if curr not in stations:\n",
    "#         print(f\"{prev} {curr} {dist}\")\n",
    "        continue\n",
    "\n",
    "    print(f\"{prev_not_null} {curr} {d}\")\n",
    "    if not np.isnan(dist):\n",
    "        if prev_not_null:\n",
    "            distances[get_index(prev_not_null), get_index(curr)] = d\n",
    "            distances[get_index(curr), get_index(prev_not_null)] = d\n",
    "            paths[-1].append(curr)\n",
    "\n",
    "        d=0\n",
    "\n",
    "    else:  # new track\n",
    "        paths.append([])\n",
    "        paths[-1].append(curr)"
   ]
  },
  {
   "cell_type": "code",
   "execution_count": null,
   "metadata": {
    "pycharm": {
     "name": "#%%\n"
    }
   },
   "outputs": [],
   "source": [
    "paths"
   ]
  },
  {
   "cell_type": "code",
   "execution_count": null,
   "metadata": {
    "pycharm": {
     "is_executing": true
    },
    "scrolled": true
   },
   "outputs": [],
   "source": [
    "for path in paths:\n",
    "    if len(path) <= 1: continue\n",
    "    print(path)"
   ]
  },
  {
   "cell_type": "code",
   "execution_count": null,
   "metadata": {
    "pycharm": {
     "is_executing": true
    }
   },
   "outputs": [],
   "source": [
    "# Function to print all sub strings\n",
    "def subString(Str,n):\n",
    "    # Pick starting point\n",
    "    for Len in range(3, n + 1):\n",
    "\n",
    "        # Pick ending point\n",
    "        for i in range(n - Len + 1):\n",
    "\n",
    "            # Print characters from current \n",
    "            # starting point to current ending \n",
    "            # point.\n",
    "            j = i + Len - 1\n",
    "\n",
    "            yield [Str[k] for k in range(i, j + 1)]"
   ]
  },
  {
   "cell_type": "code",
   "execution_count": null,
   "metadata": {
    "pycharm": {
     "is_executing": true,
     "name": "#%%\n"
    }
   },
   "outputs": [],
   "source": [
    "for path in paths:\n",
    "    if len(path) == 1: continue\n",
    "    for subpath in subString(path, len(path)):\n",
    "        d = 0\n",
    "        for i in range(len(subpath) - 1):\n",
    "            d += distances[get_index(subpath[i]), get_index(subpath[i + 1])]\n",
    "#             print(subpath[i], subpath[i + 1])\n",
    "        distances[get_index(subpath[0]), get_index(subpath[-1])] = d\n",
    "        distances[get_index(subpath[-1]), get_index(subpath[0])] = d\n",
    "#     break"
   ]
  },
  {
   "cell_type": "code",
   "execution_count": null,
   "metadata": {
    "pycharm": {
     "is_executing": true
    }
   },
   "outputs": [],
   "source": [
    "agg = df.groupby(['From', 'To'])\n",
    "agg = agg.count().reset_index()"
   ]
  },
  {
   "cell_type": "code",
   "execution_count": null,
   "metadata": {
    "pycharm": {
     "is_executing": true
    }
   },
   "outputs": [],
   "source": [
    "agg['dist'] = agg.apply(lambda row: distances[get_index(row['From'].replace('ô', 'ő')), get_index(row['To'].replace('ô', 'ő'))], axis=1)"
   ]
  }
 ],
 "metadata": {
  "kernelspec": {
   "display_name": "Python 3 (ipykernel)",
   "language": "python",
   "name": "python3"
  },
  "language_info": {
   "codemirror_mode": {
    "name": "ipython",
    "version": 3
   },
   "file_extension": ".py",
   "mimetype": "text/x-python",
   "name": "python",
   "nbconvert_exporter": "python",
   "pygments_lexer": "ipython3",
   "version": "3.8.11"
  }
 },
 "nbformat": 4,
 "nbformat_minor": 4
}
