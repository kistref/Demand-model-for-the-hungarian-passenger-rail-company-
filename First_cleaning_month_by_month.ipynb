{
 "cells": [
  {
   "cell_type": "code",
   "execution_count": null,
   "id": "9fc0e5ab",
   "metadata": {},
   "outputs": [],
   "source": [
    "import pandas as pd\n",
    "import numpy as np"
   ]
  },
  {
   "cell_type": "markdown",
   "id": "a5b60438",
   "metadata": {},
   "source": [
    "Imported the data from the xls file. And drop not important columns"
   ]
  },
  {
   "cell_type": "code",
   "execution_count": null,
   "id": "afffeae1",
   "metadata": {},
   "outputs": [],
   "source": [
    "df = pd.read_excel(input_name, names=['number', 'name', 'unknown1', 'unknown2', '1st_class', '2nd_class', '3rd_class'])"
   ]
  },
  {
   "cell_type": "code",
   "execution_count": null,
   "id": "1c4321c1",
   "metadata": {},
   "outputs": [],
   "source": [
    "df.drop(df.index[[-1,-2,-3]], inplace=True)"
   ]
  },
  {
   "cell_type": "markdown",
   "id": "253f8122",
   "metadata": {},
   "source": [
    "Adding the ID number of the train to every OD pair."
   ]
  },
  {
   "cell_type": "code",
   "execution_count": null,
   "id": "0cf89420",
   "metadata": {},
   "outputs": [],
   "source": [
    "current_num = -1\n",
    "for index, row in df.iterrows():\n",
    "    num = row['number']\n",
    "    if not pd.isnull(num):\n",
    "        current_num = num\n",
    "    else:\n",
    "        df.loc[index,'number'] = current_num"
   ]
  },
  {
   "cell_type": "markdown",
   "id": "aa13a2a3",
   "metadata": {},
   "source": [
    "Adding the data to every OD pair"
   ]
  },
  {
   "cell_type": "code",
   "execution_count": null,
   "id": "7886ca2f",
   "metadata": {},
   "outputs": [],
   "source": [
    "i=0\n",
    "current_num = -1\n",
    "for index, row in df.iterrows():\n",
    "    num = row['Number']\n",
    "    date=row['Date']\n",
    "    if int(num) == 41 and current_num != num:\n",
    "        i+=1\n",
    "    current_num = num\n",
    "    df.loc[index,'Date']= f\"2019.01.{i:02d}.\""
   ]
  },
  {
   "cell_type": "markdown",
   "id": "51fc707a",
   "metadata": {},
   "source": []
  },
  {
   "cell_type": "code",
   "execution_count": null,
   "id": "8c5f07c5",
   "metadata": {},
   "outputs": [],
   "source": [
    "df = pd.concat([df1, df2, df3, df4, df5, df6, df7, df8, df9, df10, df11, df12, df13, df14, df15, df16, df17, df18, df19, df20, df21, df22, df23, df24, df25, df26, df27, df28, df29, df30, df31], axis=0).reset_index(drop=True)"
   ]
  }
 ],
 "metadata": {
  "kernelspec": {
   "display_name": "Python 3 (ipykernel)",
   "language": "python",
   "name": "python3"
  },
  "language_info": {
   "codemirror_mode": {
    "name": "ipython",
    "version": 3
   },
   "file_extension": ".py",
   "mimetype": "text/x-python",
   "name": "python",
   "nbconvert_exporter": "python",
   "pygments_lexer": "ipython3",
   "version": "3.8.11"
  }
 },
 "nbformat": 4,
 "nbformat_minor": 5
}
