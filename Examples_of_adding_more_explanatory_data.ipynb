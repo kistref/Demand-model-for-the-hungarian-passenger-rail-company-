{
 "cells": [
  {
   "cell_type": "code",
   "execution_count": 1,
   "metadata": {},
   "outputs": [],
   "source": [
    "import pandas as pd\n",
    "import numpy as np"
   ]
  },
  {
   "cell_type": "markdown",
   "metadata": {},
   "source": [
    "Adding the price"
   ]
  },
  {
   "cell_type": "code",
   "execution_count": null,
   "metadata": {},
   "outputs": [],
   "source": [
    "def price2(dist):\n",
    "    if 14>=dist>=0: return 250\n",
    "    if 19>=dist>=15: return 310\n",
    "    if 24>=dist>=20: return 370\n",
    "    if 29>=dist>=25: return 465\n",
    "    if 34>=dist>=30: return 560\n",
    "    if 44>=dist>=35: return 650\n",
    "    if 49>=dist>=45: return 745 \n",
    "    if 54>=dist>=50: return 840 \n",
    "    if 59>=dist>=55: return 930 \n",
    "    if 69>=dist>=60: return 1120 \n",
    "    if 79>=dist>=70: return 1300\n",
    "    if 89>=dist>=80: return 1490\n",
    "    if 99>=dist>=90: return 1680\n",
    "    if 119>=dist>=100: return 1860 \n",
    "    if 139>=dist>=120: return 2200\n",
    "    if 159>=dist>=140: return 2520\n",
    "    if 179>=dist>=160: return 2830\n",
    "    if 199>=dist>=180: return 3130\n",
    "    if 219>=dist>=200: return 3410\n",
    "    if 239>=dist>=220: return 3690\n",
    "    if 259>=dist>=240: return 3950\n",
    "    if 279>=dist>=260: return 4200\n",
    "    if 299>=dist>=280: return 4430\n",
    "    if 349>=dist>=300: return 4660\n",
    "    if 399>=dist>=350: return 5160\n",
    "    if 449>=dist>=400: return 5590\n",
    "    if 499>=dist>=450: return 5940\n",
    "    if dist==500: return 6210\n",
    "    if dist>=501: return 6400\n",
    "    return -1"
   ]
  },
  {
   "cell_type": "code",
   "execution_count": null,
   "metadata": {},
   "outputs": [],
   "source": [
    "def price(dist):\n",
    "    if 14>=dist>=0: return 315\n",
    "    if 19>=dist>=15: return 390\n",
    "    if 24>=dist>=20: return 465\n",
    "    if 29>=dist>=25: return 581\n",
    "    if 34>=dist>=30: return 700\n",
    "    if 44>=dist>=35: return 815\n",
    "    if 49>=dist>=45: return 930 \n",
    "    if 54>=dist>=50: return 1050 \n",
    "    if 59>=dist>=55: return 1160\n",
    "    if 69>=dist>=60: return 1400 \n",
    "    if 79>=dist>=70: return 1630\n",
    "    if 89>=dist>=80: return 1860\n",
    "    if 99>=dist>=90: return 2100\n",
    "    if 119>=dist>=100: return 2330 \n",
    "    if 139>=dist>=120: return 2750\n",
    "    if 159>=dist>=140: return 3150\n",
    "    if 179>=dist>=160: return 3540\n",
    "    if 199>=dist>=180: return 3910\n",
    "    if 219>=dist>=200: return 4260\n",
    "    if 239>=dist>=220: return 4610\n",
    "    if 259>=dist>=240: return 4940\n",
    "    if 279>=dist>=260: return 5250\n",
    "    if 299>=dist>=280: return 5540\n",
    "    if 349>=dist>=300: return 5830\n",
    "    if 399>=dist>=350: return 6450\n",
    "    if 449>=dist>=400: return 6999\n",
    "    if 499>=dist>=450: return 7430\n",
    "    if dist==500: return 7760\n",
    "    if dist>=501: return 8000\n",
    "    return -1"
   ]
  },
  {
   "cell_type": "code",
   "execution_count": null,
   "metadata": {},
   "outputs": [],
   "source": [
    "df['Price_2'] = df.apply(lambda row: price2(row['Distances']), axis=1)"
   ]
  },
  {
   "cell_type": "code",
   "execution_count": null,
   "metadata": {},
   "outputs": [],
   "source": [
    "df['Price'] = df.apply(lambda row: price(row['Distances']), axis=1)"
   ]
  },
  {
   "cell_type": "code",
   "execution_count": null,
   "metadata": {},
   "outputs": [],
   "source": [
    "df[df['Price']==-1]"
   ]
  },
  {
   "cell_type": "markdown",
   "metadata": {},
   "source": [
    "Adding weather"
   ]
  },
  {
   "cell_type": "code",
   "execution_count": null,
   "metadata": {},
   "outputs": [],
   "source": [
    "weather=pd.read_csv('weather.csv')\n",
    "weather['Date']=pd.to_datetime(weather['Date time'], format=\"%m/%d/%Y\")"
   ]
  },
  {
   "cell_type": "code",
   "execution_count": null,
   "metadata": {},
   "outputs": [],
   "source": [
    "weather.drop(columns=['Date time','Name','Maximum Temperature','Minimum Temperature','Wind Chill','Heat Index','Precipitation','Snow Depth','Wind Speed','Wind Gust','Visibility','Cloud Cover','Relative Humidity'], inplace=True)"
   ]
  },
  {
   "cell_type": "code",
   "execution_count": null,
   "metadata": {},
   "outputs": [],
   "source": [
    "df['Date'] = df.apply(lambda row: datetime.strptime(row['Date'],\"%Y.%m.%d.\"), axis=1)"
   ]
  },
  {
   "cell_type": "code",
   "execution_count": null,
   "metadata": {},
   "outputs": [],
   "source": [
    "df2=df.join(weather.set_index('Date'), on='Date')"
   ]
  },
  {
   "cell_type": "markdown",
   "metadata": {},
   "source": [
    "Adding the Timatable data from an API response"
   ]
  },
  {
   "cell_type": "code",
   "execution_count": null,
   "metadata": {},
   "outputs": [],
   "source": [
    "df_0 = pd.read_csv('routes.txt')\n",
    "df_1=pd.read_csv('trips.txt')\n",
    "df_2=df_1.join(df.set_index('route_id'), on='route_id')\n",
    "df_2.replace('BAGOLYVONAT',np.nan, inplace=True)\n",
    "df_2['route_long_name'].fillna(df_2['route_short_name'], inplace=True)\n",
    "df_3=pd.read_csv('stop_times.txt')\n",
    "df_4=pd.read_csv('stops.txt')"
   ]
  },
  {
   "cell_type": "code",
   "execution_count": null,
   "metadata": {},
   "outputs": [],
   "source": [
    "current_num = -1\n",
    "for index, row in df_2.iterrows():\n",
    "    num = row['route_long_name']\n",
    "    if num=='':\n",
    "        current_num = num\n",
    "    else:\n",
    "        continue"
   ]
  },
  {
   "cell_type": "code",
   "execution_count": null,
   "metadata": {},
   "outputs": [],
   "source": [
    "df_2=df_3.join(df_2.set_index('trip_id'), on='trip_id')"
   ]
  },
  {
   "cell_type": "code",
   "execution_count": null,
   "metadata": {},
   "outputs": [],
   "source": [
    "current_num = -1\n",
    "for index, row in df_2.iterrows():\n",
    "    num = row['route_long_name']\n",
    "    if num=='':\n",
    "        print(index)\n",
    "        current_num = num\n",
    "    else:\n",
    "        continue"
   ]
  },
  {
   "cell_type": "code",
   "execution_count": null,
   "metadata": {},
   "outputs": [],
   "source": [
    "df_2=df_4.join(df_2.set_index('stop_id'), on='stop_id')"
   ]
  },
  {
   "cell_type": "code",
   "execution_count": null,
   "metadata": {},
   "outputs": [],
   "source": [
    "current_num = -1\n",
    "for index, row in df_2.iterrows():\n",
    "    num = row['route_long_name']\n",
    "    if num=='':\n",
    "        print(index)\n",
    "        current_num = num\n",
    "    else:\n",
    "        continue"
   ]
  },
  {
   "cell_type": "code",
   "execution_count": null,
   "metadata": {},
   "outputs": [],
   "source": [
    "df['Number']=df['Number'].astype(str)\n",
    "df2=df.join(df.set_index('Number'), on='Number')"
   ]
  }
 ],
 "metadata": {
  "kernelspec": {
   "display_name": "Python 3 (ipykernel)",
   "language": "python",
   "name": "python3"
  },
  "language_info": {
   "codemirror_mode": {
    "name": "ipython",
    "version": 3
   },
   "file_extension": ".py",
   "mimetype": "text/x-python",
   "name": "python",
   "nbconvert_exporter": "python",
   "pygments_lexer": "ipython3",
   "version": "3.8.11"
  }
 },
 "nbformat": 4,
 "nbformat_minor": 4
}
